{
 "cells": [
  {
   "cell_type": "code",
   "execution_count": 1,
   "id": "d8166257-7e63-497d-acd2-b3412bbe3689",
   "metadata": {},
   "outputs": [
    {
     "name": "stdout",
     "output_type": "stream",
     "text": [
      "4.10.0\n"
     ]
    }
   ],
   "source": [
    "import cv2\n",
    "print(cv2.__version__)\n"
   ]
  },
  {
   "cell_type": "code",
   "execution_count": 4,
   "id": "96e27fb3-af23-48db-90fd-f845347827e9",
   "metadata": {},
   "outputs": [],
   "source": [
    "import numpy as np\n",
    "import cv2\n",
    "import os\n",
    "import random\n",
    "import matplotlib.pyplot as plt\n",
    "import pickle"
   ]
  },
  {
   "cell_type": "code",
   "execution_count": 13,
   "id": "1f4a3525-463f-463d-a4e7-90eb29db28fb",
   "metadata": {},
   "outputs": [],
   "source": [
    "DIRECTORY = r'C:\\summer 2024\\CSE420-img processing\\drone_dataset'\n",
    "CATEGORIES = ['drone', 'no_drone']"
   ]
  },
  {
   "cell_type": "code",
   "execution_count": 24,
   "id": "9cee88a1-1f3b-4834-bc67-a261dee1bd8a",
   "metadata": {},
   "outputs": [],
   "source": [
    "img_size = 120\n",
    "data = []\n",
    "for category in CATEGORIES:\n",
    "    folder = os.path.join(DIRECTORY, category)\n",
    "    label = CATEGORIES.index(category)\n",
    "    for img in os.listdir(folder):\n",
    "        img_path = os.path.join(folder, img)\n",
    "        img_arr = cv2.imread(img_path)\n",
    "        img_arr = cv2.resize(img_arr, (img_size, img_size))\n",
    "        data.append([img_arr, label])\n",
    "        "
   ]
  },
  {
   "cell_type": "code",
   "execution_count": 27,
   "id": "457082dc-4e14-43a0-86da-1fd6e368811d",
   "metadata": {},
   "outputs": [],
   "source": [
    "len(data)\n",
    "random.shuffle(data)"
   ]
  },
  {
   "cell_type": "code",
   "execution_count": 33,
   "id": "459a7213-0bdf-4460-a237-463bd579c09a",
   "metadata": {},
   "outputs": [
    {
     "data": {
      "text/plain": [
       "[array([[[210, 157, 120],\n",
       "         [210, 158, 121],\n",
       "         [210, 158, 121],\n",
       "         ...,\n",
       "         [235, 173, 127],\n",
       "         [235, 173, 127],\n",
       "         [234, 173, 127]],\n",
       " \n",
       "        [[209, 157, 120],\n",
       "         [210, 158, 121],\n",
       "         [210, 158, 121],\n",
       "         ...,\n",
       "         [235, 173, 127],\n",
       "         [235, 173, 127],\n",
       "         [234, 173, 127]],\n",
       " \n",
       "        [[209, 157, 120],\n",
       "         [210, 158, 121],\n",
       "         [210, 158, 121],\n",
       "         ...,\n",
       "         [235, 173, 127],\n",
       "         [235, 173, 127],\n",
       "         [234, 173, 127]],\n",
       " \n",
       "        ...,\n",
       " \n",
       "        [[212, 160, 123],\n",
       "         [213, 161, 124],\n",
       "         [213, 161, 124],\n",
       "         ...,\n",
       "         [235, 175, 129],\n",
       "         [235, 175, 129],\n",
       "         [235, 174, 129]],\n",
       " \n",
       "        [[212, 160, 123],\n",
       "         [213, 160, 124],\n",
       "         [213, 161, 124],\n",
       "         ...,\n",
       "         [235, 175, 129],\n",
       "         [235, 175, 129],\n",
       "         [235, 174, 129]],\n",
       " \n",
       "        [[212, 160, 123],\n",
       "         [213, 160, 124],\n",
       "         [213, 161, 124],\n",
       "         ...,\n",
       "         [235, 175, 129],\n",
       "         [235, 175, 129],\n",
       "         [235, 174, 129]]], dtype=uint8),\n",
       " 1]"
      ]
     },
     "execution_count": 33,
     "metadata": {},
     "output_type": "execute_result"
    }
   ],
   "source": [
    "data[3]"
   ]
  },
  {
   "cell_type": "code",
   "execution_count": 34,
   "id": "8df073e2-3309-48a9-9945-8b597b7999da",
   "metadata": {},
   "outputs": [],
   "source": [
    "X = []\n",
    "Y = []\n",
    "for features, labels in data:\n",
    "    X.append(features)\n",
    "    Y.append(labels)"
   ]
  },
  {
   "cell_type": "code",
   "execution_count": 35,
   "id": "ba268f79-0186-425e-b3d2-806e649848bd",
   "metadata": {},
   "outputs": [],
   "source": [
    "X = np.array(X)\n",
    "Y = np.array(Y)"
   ]
  },
  {
   "cell_type": "code",
   "execution_count": 36,
   "id": "b490420d-b895-4dc3-9f7d-65d87184b439",
   "metadata": {},
   "outputs": [
    {
     "data": {
      "text/plain": [
       "2001"
      ]
     },
     "execution_count": 36,
     "metadata": {},
     "output_type": "execute_result"
    }
   ],
   "source": [
    "len(X)"
   ]
  },
  {
   "cell_type": "code",
   "execution_count": 37,
   "id": "7c937691-75c1-4a74-91d4-d3d35a266fbe",
   "metadata": {},
   "outputs": [
    {
     "data": {
      "text/plain": [
       "2001"
      ]
     },
     "execution_count": 37,
     "metadata": {},
     "output_type": "execute_result"
    }
   ],
   "source": [
    "len(Y)"
   ]
  },
  {
   "cell_type": "code",
   "execution_count": 38,
   "id": "66b20790-c784-4807-99b4-fc43a56f0a1e",
   "metadata": {},
   "outputs": [],
   "source": [
    "pickle.dump(X, open('X.pkl', 'wb'))\n",
    "pickle.dump(Y, open('Y.pkl', 'wb'))"
   ]
  },
  {
   "cell_type": "code",
   "execution_count": null,
   "id": "0fb7a936-079f-482a-957e-38ca849edf1d",
   "metadata": {},
   "outputs": [],
   "source": []
  }
 ],
 "metadata": {
  "kernelspec": {
   "display_name": "Python 3 (ipykernel)",
   "language": "python",
   "name": "python3"
  },
  "language_info": {
   "codemirror_mode": {
    "name": "ipython",
    "version": 3
   },
   "file_extension": ".py",
   "mimetype": "text/x-python",
   "name": "python",
   "nbconvert_exporter": "python",
   "pygments_lexer": "ipython3",
   "version": "3.9.18"
  }
 },
 "nbformat": 4,
 "nbformat_minor": 5
}
